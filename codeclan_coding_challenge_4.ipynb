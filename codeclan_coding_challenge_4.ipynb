{
 "cells": [
  {
   "cell_type": "markdown",
   "id": "de6b761f",
   "metadata": {},
   "source": [
    "# Coding Challenge - 4: Emoji Mood Checker"
   ]
  },
  {
   "cell_type": "code",
   "execution_count": 1,
   "id": "fea3a30f",
   "metadata": {},
   "outputs": [],
   "source": [
    "#4th challenge of codeclan coding challenge.\n",
    "#emoji mood checker \n",
    "#ask the user how they are feeling and respond with an emoji "
   ]
  },
  {
   "cell_type": "code",
   "execution_count": 6,
   "id": "8ccdf41e",
   "metadata": {},
   "outputs": [
    {
     "name": "stdout",
     "output_type": "stream",
     "text": [
      "How are you feeling today?: happy\n",
      "Keep Smiling,Always be Happy☺️\n"
     ]
    }
   ],
   "source": [
    "mood = input(\"How are you feeling today?: \").lower() #asking the user how they are feeling.\n",
    "#lower()ensures the input is case-insensitive\n",
    "\n",
    "# Respond with an emoji based on the mood\n",
    "if mood == \"happy\":\n",
    "    print(\"Keep Smiling,Always be Happy☺️\")\n",
    "elif mood == \"sad\":\n",
    "    print(\"Don't worry,This too shall pass.😢\")\n",
    "elif mood == \"angry\":\n",
    "    print(\"Take a deep breath!😡\")\n",
    "elif mood == \"excited\":\n",
    "    print(\"That's awesome!😃\")\n",
    "elif mood == \"tired\":\n",
    "    print(\"You need some rest.😴\")\n",
    "else:\n",
    "    print(\"Hope you're feeling good,Stay Positive!☺️😌\")"
   ]
  },
  {
   "cell_type": "markdown",
   "id": "4c846ddd",
   "metadata": {},
   "source": [
    "# Alternate Method"
   ]
  },
  {
   "cell_type": "code",
   "execution_count": 10,
   "id": "ffe2fa5f",
   "metadata": {},
   "outputs": [
    {
     "name": "stdout",
     "output_type": "stream",
     "text": [
      "How are you feeling today? (happy, sad, angry, excited, tired, etc.): happy\n",
      "You're feeling happy! 😊\n"
     ]
    }
   ],
   "source": [
    "# Dictionary to map moods to emojis\n",
    "mood_emojis = {\n",
    "    \"happy\": \"😊\",\n",
    "    \"sad\": \"😢\",\n",
    "    \"angry\": \"😡\",\n",
    "    \"excited\": \"😃\",\n",
    "    \"tired\": \"😴\"}\n",
    "\n",
    "mood = input(\"How are you feeling today? (happy, sad, angry, excited, tired, etc.): \").lower()\n",
    "\n",
    "emoji = mood_emojis.get(mood, \"😌\")  # Default emoji if mood is not found\n",
    "\n",
    "print(f\"You're feeling {mood}! {emoji}\")"
   ]
  },
  {
   "cell_type": "code",
   "execution_count": null,
   "id": "76f1644c",
   "metadata": {},
   "outputs": [],
   "source": []
  }
 ],
 "metadata": {
  "kernelspec": {
   "display_name": "Python 3 (ipykernel)",
   "language": "python",
   "name": "python3"
  },
  "language_info": {
   "codemirror_mode": {
    "name": "ipython",
    "version": 3
   },
   "file_extension": ".py",
   "mimetype": "text/x-python",
   "name": "python",
   "nbconvert_exporter": "python",
   "pygments_lexer": "ipython3",
   "version": "3.10.9"
  }
 },
 "nbformat": 4,
 "nbformat_minor": 5
}
