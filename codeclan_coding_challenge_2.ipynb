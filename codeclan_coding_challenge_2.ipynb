{
 "cells": [
  {
   "cell_type": "markdown",
   "id": "44671939",
   "metadata": {},
   "source": [
    "# Coding Challenge - 2: Magic Number Guessing Game"
   ]
  },
  {
   "cell_type": "code",
   "execution_count": 1,
   "id": "9ac3d947",
   "metadata": {},
   "outputs": [],
   "source": [
    "#2nd challenge of codeclan coding challenge.\n",
    "#Magic Number Guessing Game\n",
    "#the program randomly selects a number between 1 and 10,\n",
    "#and the user is tasked with guessing the number. \n",
    "#The program provides feedback,telling the user whether their guess is too high, too low, or correct.\n",
    "#It continues prompting the user until they make the correct guess."
   ]
  },
  {
   "cell_type": "code",
   "execution_count": 3,
   "id": "ef5de4e5",
   "metadata": {},
   "outputs": [],
   "source": [
    "import random as rd"
   ]
  },
  {
   "cell_type": "code",
   "execution_count": 8,
   "id": "d6f87134",
   "metadata": {},
   "outputs": [
    {
     "name": "stdout",
     "output_type": "stream",
     "text": [
      "Welcome to Magic Number Guessing Game!!!\n",
      "I've selected a random number between 1 and 10 for you to guess.Try to guess it!\n",
      "Guess a number between 1 and 10: 8\n",
      "Too high! Try again.\n",
      "Guess a number between 1 and 10: 5\n",
      "Too low! Try again.\n",
      "Guess a number between 1 and 10: 6\n",
      "Too low! Try again.\n",
      "Guess a number between 1 and 10: 7\n",
      "Congratulations! You guessed the correct number 7!\n"
     ]
    }
   ],
   "source": [
    "random_number = rd.randint(1, 10)#To generate a random number between 1 and 10\n",
    "\n",
    "# Introduction to the game\n",
    "print(\"Welcome to Magic Number Guessing Game!!!\")\n",
    "print(\"I've selected a random number between 1 and 10 for you to guess.Try to guess it!\")\n",
    "\n",
    "# Loop until the user guesses correctly\n",
    "while True:\n",
    "    guessed_number = int(input(\"Guess a number between 1 and 10: \"))# asking the user to guess the number\n",
    "    \n",
    "   # To check if the guess is correct\n",
    "    if guessed_number < random_number:\n",
    "        print(\"Too low! Try again.\")\n",
    "    elif guessed_number > random_number:\n",
    "        print(\"Too high! Try again.\")\n",
    "    else:\n",
    "        print(f\"Congratulations! You guessed the correct number {random_number}!\")\n",
    "        break  # To exit the loop if the guess is correct"
   ]
  },
  {
   "cell_type": "code",
   "execution_count": null,
   "id": "d27fa0c9",
   "metadata": {},
   "outputs": [],
   "source": []
  }
 ],
 "metadata": {
  "kernelspec": {
   "display_name": "Python 3 (ipykernel)",
   "language": "python",
   "name": "python3"
  },
  "language_info": {
   "codemirror_mode": {
    "name": "ipython",
    "version": 3
   },
   "file_extension": ".py",
   "mimetype": "text/x-python",
   "name": "python",
   "nbconvert_exporter": "python",
   "pygments_lexer": "ipython3",
   "version": "3.10.9"
  }
 },
 "nbformat": 4,
 "nbformat_minor": 5
}
