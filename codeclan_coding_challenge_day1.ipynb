{
 "cells": [
  {
   "cell_type": "markdown",
   "id": "f00c767d",
   "metadata": {},
   "source": [
    "# Coding Challenge Day - 1 Age Calculator"
   ]
  },
  {
   "cell_type": "code",
   "execution_count": 1,
   "id": "90298ab1",
   "metadata": {},
   "outputs": [],
   "source": [
    "#day 1 of codeclan coding challenge\n",
    "#asking the user for their birth year and calculating their exact age\n",
    "#This code does the following:\n",
    "\n",
    "#1.It prompts the user to enter their birth year.\n",
    "#2.It calculates the current year using datetime.now().year.\n",
    "#3.It subtracts the birth year from the current year to get the age.\n",
    "#4.Finally, it prints the user's age."
   ]
  },
  {
   "cell_type": "code",
   "execution_count": 2,
   "id": "0443ee29",
   "metadata": {},
   "outputs": [],
   "source": [
    "from datetime import datetime\n"
   ]
  },
  {
   "cell_type": "code",
   "execution_count": 4,
   "id": "b08f0324",
   "metadata": {},
   "outputs": [
    {
     "name": "stdout",
     "output_type": "stream",
     "text": [
      "Please enter your birth year: 2000\n",
      "You are 25 years old.\n"
     ]
    }
   ],
   "source": [
    "birth_year = int(input(\"Please enter your birth year: \")) #Asking the user for their birth year\n",
    "\n",
    "current_year = datetime.now().year #To get the current year\n",
    "\n",
    "age = current_year - birth_year #For calculating the age by taking the difference between current year and birth year\n",
    "\n",
    "print(f\"You are {age} years old.\") #To print the user's age"
   ]
  },
  {
   "cell_type": "code",
   "execution_count": null,
   "id": "f9381358",
   "metadata": {},
   "outputs": [],
   "source": []
  }
 ],
 "metadata": {
  "kernelspec": {
   "display_name": "Python 3 (ipykernel)",
   "language": "python",
   "name": "python3"
  },
  "language_info": {
   "codemirror_mode": {
    "name": "ipython",
    "version": 3
   },
   "file_extension": ".py",
   "mimetype": "text/x-python",
   "name": "python",
   "nbconvert_exporter": "python",
   "pygments_lexer": "ipython3",
   "version": "3.10.9"
  }
 },
 "nbformat": 4,
 "nbformat_minor": 5
}
