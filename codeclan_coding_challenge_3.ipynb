{
 "cells": [
  {
   "cell_type": "markdown",
   "id": "d6c81bfa",
   "metadata": {},
   "source": [
    "# Coding Challenge - 3 : Multiplication Table "
   ]
  },
  {
   "cell_type": "code",
   "execution_count": 1,
   "id": "0019df96",
   "metadata": {},
   "outputs": [],
   "source": [
    "#3rd challenge of codeclan coding challenge.\n",
    "#Multiplication Table \n",
    "#asks the user for a number and prints the multiplication table \n",
    "#for that number up to 10"
   ]
  },
  {
   "cell_type": "code",
   "execution_count": 3,
   "id": "5f16e7e3",
   "metadata": {},
   "outputs": [
    {
     "name": "stdout",
     "output_type": "stream",
     "text": [
      "Enter a number to generate its multiplication table (upto 10): 5\n",
      "The Multiplication Table for 5:\n",
      "5 x 1 = 5\n",
      "5 x 2 = 10\n",
      "5 x 3 = 15\n",
      "5 x 4 = 20\n",
      "5 x 5 = 25\n",
      "5 x 6 = 30\n",
      "5 x 7 = 35\n",
      "5 x 8 = 40\n",
      "5 x 9 = 45\n",
      "5 x 10 = 50\n"
     ]
    }
   ],
   "source": [
    "Number = int(input(\"Enter a number to generate its multiplication table (upto 10): \")) #asking the user for a number upto 10\n",
    "\n",
    "print(f\"The Multiplication Table for {Number}:\")\n",
    "for i in range(1, 11):\n",
    "    print(f\"{Number} x {i} = {Number * i}\")\n"
   ]
  },
  {
   "cell_type": "code",
   "execution_count": null,
   "id": "4dc0d056",
   "metadata": {},
   "outputs": [],
   "source": []
  }
 ],
 "metadata": {
  "kernelspec": {
   "display_name": "Python 3 (ipykernel)",
   "language": "python",
   "name": "python3"
  },
  "language_info": {
   "codemirror_mode": {
    "name": "ipython",
    "version": 3
   },
   "file_extension": ".py",
   "mimetype": "text/x-python",
   "name": "python",
   "nbconvert_exporter": "python",
   "pygments_lexer": "ipython3",
   "version": "3.10.9"
  }
 },
 "nbformat": 4,
 "nbformat_minor": 5
}
